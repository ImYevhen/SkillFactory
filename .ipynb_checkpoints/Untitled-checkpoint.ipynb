{
 "cells": [
  {
   "cell_type": "code",
   "execution_count": 17,
   "id": "82fca7db",
   "metadata": {},
   "outputs": [
    {
     "name": "stdout",
     "output_type": "stream",
     "text": [
      "Ваш алгоритм угадывает число в среднем за 5 попыток\n"
     ]
    },
    {
     "data": {
      "text/plain": [
       "5"
      ]
     },
     "execution_count": 17,
     "metadata": {},
     "output_type": "execute_result"
    }
   ],
   "source": [
    "import numpy as np #импорт библиотеки нампай\n",
    "\n",
    "'''Для того чтобы угадать загаданное чилсо в указаном интервале. Нужно делить этот интервал на пополам. От 1 до 100 узнаем\n",
    "является ли загаданное число больше или меньше 50. Дальше соответственно проверяем по такой же логике числа 25 и 75.'''\n",
    "\n",
    "def game_core_v3(number):\n",
    "    count = 1\n",
    "    min_num = 0 # Начало интервала\n",
    "    max_num = 101 # Конец интервала\n",
    "    predict = (max_num + min_num) // 2 # находим середину между началом(min_num ) и концом (max_num)\n",
    "    while number != predict: # Если число не угадано выполняем дальше.\n",
    "        count += 1 \n",
    "        if number > predict: # Если загаданое число больше средины то\n",
    "            min_num = predict # НАЧАЛОМ нового интервала становится найденая середина\n",
    "            predict = (max_num + min_num) // 2 # находим новую середину\n",
    "        elif number < predict: # Если загаданое число меньше средины то\n",
    "            max_num = predict # КОНЦОМ нового интервала становится найденая середина\n",
    "            predict = (max_num + min_num) // 2 # находим новую середину\n",
    "    return(count) # выход из цикла, если угадали.\n",
    "\n",
    "\n",
    "def score_game(game_core):\n",
    "    '''Запускаем игру 1000 раз, чтобы узнать, как быстро игра угадывает число'''\n",
    "    count_ls = []\n",
    "    np.random.seed(1)  # фиксируем RANDOM SEED, чтобы ваш эксперимент был воспроизводим!\n",
    "    random_array = np.random.randint(1,101, size=(1000))\n",
    "    for number in random_array:\n",
    "        count_ls.append(game_core(number))\n",
    "    score = int(np.mean(count_ls))\n",
    "    print(f\"Ваш алгоритм угадывает число в среднем за {score} попыток\")\n",
    "    return(score)\n",
    "\n",
    "\n",
    "\n",
    "score_game(game_core_v3)"
   ]
  },
  {
   "cell_type": "code",
   "execution_count": 16,
   "id": "1fd6f45e",
   "metadata": {},
   "outputs": [
    {
     "data": {
      "text/plain": [
       "50"
      ]
     },
     "execution_count": 16,
     "metadata": {},
     "output_type": "execute_result"
    }
   ],
   "source": [
    "100//2"
   ]
  },
  {
   "cell_type": "code",
   "execution_count": null,
   "id": "97adacca",
   "metadata": {},
   "outputs": [],
   "source": []
  }
 ],
 "metadata": {
  "kernelspec": {
   "display_name": "Python 3",
   "language": "python",
   "name": "python3"
  },
  "language_info": {
   "codemirror_mode": {
    "name": "ipython",
    "version": 3
   },
   "file_extension": ".py",
   "mimetype": "text/x-python",
   "name": "python",
   "nbconvert_exporter": "python",
   "pygments_lexer": "ipython3",
   "version": "3.8.8"
  }
 },
 "nbformat": 4,
 "nbformat_minor": 5
}
