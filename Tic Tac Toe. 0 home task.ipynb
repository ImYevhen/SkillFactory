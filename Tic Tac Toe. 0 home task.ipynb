{
 "cells": [
  {
   "cell_type": "markdown",
   "id": "7366f2d6",
   "metadata": {},
   "source": [
    "# Крестики нолики.\n",
    "Код написан с целью выполнения домашнего задания для **SkillFactory**.\n"
   ]
  },
  {
   "cell_type": "code",
   "execution_count": 37,
   "id": "9d25ea04",
   "metadata": {},
   "outputs": [
    {
     "name": "stdout",
     "output_type": "stream",
     "text": [
      "_____________\n",
      "| 1 | 2 | 3 |\n",
      "| 4 | 5 | 6 |\n",
      "| 7 | 8 | 9 |\n",
      "-------------\n",
      "Выбирете клетку, куда хотите поставить X ?  \n"
     ]
    },
    {
     "ename": "ValueError",
     "evalue": "invalid literal for int() with base 10: ' '",
     "output_type": "error",
     "traceback": [
      "\u001b[1;31m---------------------------------------------------------------------------\u001b[0m",
      "\u001b[1;31mValueError\u001b[0m                                Traceback (most recent call last)",
      "\u001b[1;32m<ipython-input-37-3ac8a8282502>\u001b[0m in \u001b[0;36m<module>\u001b[1;34m\u001b[0m\n\u001b[0;32m     53\u001b[0m             \u001b[0mprint\u001b[0m\u001b[1;33m(\u001b[0m\u001b[1;34m'Ничья!'\u001b[0m\u001b[1;33m)\u001b[0m\u001b[1;33m\u001b[0m\u001b[1;33m\u001b[0m\u001b[0m\n\u001b[0;32m     54\u001b[0m             \u001b[1;32mbreak\u001b[0m\u001b[1;33m\u001b[0m\u001b[1;33m\u001b[0m\u001b[0m\n\u001b[1;32m---> 55\u001b[1;33m \u001b[0mmain\u001b[0m\u001b[1;33m(\u001b[0m\u001b[1;33m)\u001b[0m\u001b[1;33m\u001b[0m\u001b[1;33m\u001b[0m\u001b[0m\n\u001b[0m\u001b[0;32m     56\u001b[0m \u001b[1;33m\u001b[0m\u001b[0m\n\u001b[0;32m     57\u001b[0m \u001b[1;33m\u001b[0m\u001b[0m\n",
      "\u001b[1;32m<ipython-input-37-3ac8a8282502>\u001b[0m in \u001b[0;36mmain\u001b[1;34m()\u001b[0m\n\u001b[0;32m     38\u001b[0m         \u001b[1;32mif\u001b[0m \u001b[0mstep_counter\u001b[0m \u001b[1;33m%\u001b[0m \u001b[1;36m2\u001b[0m \u001b[1;33m==\u001b[0m \u001b[1;36m0\u001b[0m\u001b[1;33m:\u001b[0m\u001b[1;33m\u001b[0m\u001b[1;33m\u001b[0m\u001b[0m\n\u001b[0;32m     39\u001b[0m             \u001b[0mplayar_token\u001b[0m \u001b[1;33m=\u001b[0m \u001b[1;34m\"X\"\u001b[0m\u001b[1;33m\u001b[0m\u001b[1;33m\u001b[0m\u001b[0m\n\u001b[1;32m---> 40\u001b[1;33m             \u001b[0mtoken_input\u001b[0m\u001b[1;33m(\u001b[0m\u001b[0mplayar_token\u001b[0m\u001b[1;33m)\u001b[0m\u001b[1;33m\u001b[0m\u001b[1;33m\u001b[0m\u001b[0m\n\u001b[0m\u001b[0;32m     41\u001b[0m         \u001b[1;32melse\u001b[0m\u001b[1;33m:\u001b[0m\u001b[1;33m\u001b[0m\u001b[1;33m\u001b[0m\u001b[0m\n\u001b[0;32m     42\u001b[0m             \u001b[0mplayar_token\u001b[0m \u001b[1;33m=\u001b[0m \u001b[1;34m\"O\"\u001b[0m\u001b[1;33m\u001b[0m\u001b[1;33m\u001b[0m\u001b[0m\n",
      "\u001b[1;32m<ipython-input-37-3ac8a8282502>\u001b[0m in \u001b[0;36mtoken_input\u001b[1;34m(playar_token)\u001b[0m\n\u001b[0;32m     15\u001b[0m             \u001b[0mprint\u001b[0m\u001b[1;33m(\u001b[0m\u001b[1;34m\"Некорректный ввод. Выберете одну из свободных клеток на поле\"\u001b[0m\u001b[1;33m)\u001b[0m\u001b[1;33m\u001b[0m\u001b[1;33m\u001b[0m\u001b[0m\n\u001b[0;32m     16\u001b[0m             \u001b[1;32mcontinue\u001b[0m\u001b[1;33m\u001b[0m\u001b[1;33m\u001b[0m\u001b[0m\n\u001b[1;32m---> 17\u001b[1;33m         \u001b[0mvalue\u001b[0m \u001b[1;33m=\u001b[0m \u001b[0mint\u001b[0m\u001b[1;33m(\u001b[0m\u001b[0mvalue\u001b[0m\u001b[1;33m)\u001b[0m\u001b[1;33m\u001b[0m\u001b[1;33m\u001b[0m\u001b[0m\n\u001b[0m\u001b[0;32m     18\u001b[0m         \u001b[1;32mif\u001b[0m \u001b[0mstr\u001b[0m\u001b[1;33m(\u001b[0m\u001b[0mboarg_range\u001b[0m\u001b[1;33m[\u001b[0m\u001b[0mvalue\u001b[0m \u001b[1;33m-\u001b[0m\u001b[1;36m1\u001b[0m\u001b[1;33m]\u001b[0m\u001b[1;33m)\u001b[0m \u001b[1;32min\u001b[0m \u001b[1;34m'XO'\u001b[0m\u001b[1;33m:\u001b[0m\u001b[1;31m#Проверка занята ли выбранная клетка. Если собержимое по индексу равняется Х или О\u001b[0m\u001b[1;33m\u001b[0m\u001b[1;33m\u001b[0m\u001b[0m\n\u001b[0;32m     19\u001b[0m             \u001b[0mprint\u001b[0m \u001b[1;33m(\u001b[0m\u001b[1;34m\"Эта клетка уже занята. Выберете одну из свободных клеток на поле \"\u001b[0m\u001b[1;33m)\u001b[0m\u001b[1;33m\u001b[0m\u001b[1;33m\u001b[0m\u001b[0m\n",
      "\u001b[1;31mValueError\u001b[0m: invalid literal for int() with base 10: ' '"
     ]
    }
   ],
   "source": [
    "boarg_range=list(range(1,10)) #Создаем координаты для навигации игроков. \n",
    "\n",
    "winner_combinations=[(1,2,3), (4,5,6), (7,8,9), (1,4,7), (2,5,8), (3,6,9), (1,5,9), (3,5,7)] \n",
    "\n",
    "def game_board():\n",
    "    print(\"_____________\")\n",
    "    for i in range(3):\n",
    "        print('|', boarg_range[0+i*3 ],'|', boarg_range[1+i*3 ],'|', boarg_range[2+i*3 ], '|') \n",
    "    print(\"-------------\")\n",
    "\n",
    "def token_input(playar_token):\n",
    "    while True:\n",
    "        value = input(\"Выбирете клетку, куда хотите поставить \" + playar_token + ' ? ')\n",
    "        if not (value in \"1 2 3 4 5 6 7 8 9\" or value == ' '): # Условия для проверки ставит ли игрок токены в пределах игрового поля\n",
    "            print(\"Некорректный ввод. Выберете одну из свободных клеток на поле\")\n",
    "            continue\n",
    "        value = int(value)\n",
    "        if str(boarg_range[value -1]) in 'XO':#Проверка занята ли выбранная клетка. Если собержимое по индексу равняется Х или О\n",
    "            print (\"Эта клетка уже занята. Выберете одну из свободных клеток на поле \")\n",
    "            continue\n",
    "#         if value = None: \n",
    "#             print (\"Укажите число клетки:\")\n",
    "#             continue\n",
    "        boarg_range[value - 1] = playar_token\n",
    "        break\n",
    "        \n",
    "def check_winner():\n",
    "    for i in winner_combinations:\n",
    "        if (boarg_range[i[0]-1]) == (boarg_range[i[1]-1]) == (boarg_range[i[2]-1]):\n",
    "            return True\n",
    "    else:\n",
    "        return False\n",
    "\n",
    "def main():\n",
    "    step_counter = 0 \n",
    "    while True:\n",
    "        game_board()\n",
    "        if step_counter % 2 == 0:\n",
    "            playar_token = \"X\"\n",
    "            token_input(playar_token)\n",
    "        else:\n",
    "            playar_token = \"O\"\n",
    "            token_input(playar_token)\n",
    "        if step_counter > 3:\n",
    "            winner = check_winner()\n",
    "            if winner:\n",
    "                game_board()\n",
    "                print(playar_token, 'является победителем!')\n",
    "                break\n",
    "        step_counter +=1\n",
    "        if step_counter > 8:\n",
    "            game_board()\n",
    "            print('Ничья!')\n",
    "            break\n",
    "main()    \n",
    "            \n",
    "        "
   ]
  },
  {
   "cell_type": "code",
   "execution_count": null,
   "id": "28334a86",
   "metadata": {},
   "outputs": [],
   "source": []
  }
 ],
 "metadata": {
  "kernelspec": {
   "display_name": "Python 3",
   "language": "python",
   "name": "python3"
  },
  "language_info": {
   "codemirror_mode": {
    "name": "ipython",
    "version": 3
   },
   "file_extension": ".py",
   "mimetype": "text/x-python",
   "name": "python",
   "nbconvert_exporter": "python",
   "pygments_lexer": "ipython3",
   "version": "3.8.8"
  }
 },
 "nbformat": 4,
 "nbformat_minor": 5
}
