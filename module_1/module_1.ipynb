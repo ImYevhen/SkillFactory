{
 "cells": [
  {
   "cell_type": "code",
   "execution_count": 284,
   "metadata": {
    "_cell_guid": "b1076dfc-b9ad-4769-8c92-a6c4dae69d19",
    "_uuid": "8f2839f25d086af736a60e9eeb907d3b93b6e0e5",
    "colab": {},
    "colab_type": "code",
    "id": "U2D2gTdJVp90"
   },
   "outputs": [],
   "source": [
    "import numpy as np\n",
    "import pandas as pd\n",
    "import seaborn as sns\n",
    "import matplotlib.pyplot as plt\n",
    "import datetime\n",
    "import collections\n",
    "from datetime import datetime\n",
    "from collections import Counter\n",
    "from pandas import DataFrame\n",
    "import calendar\n",
    "from itertools import combinations"
   ]
  },
  {
   "cell_type": "code",
   "execution_count": 285,
   "metadata": {
    "_cell_guid": "79c7e3d0-c299-4dcb-8224-4455121ee9b0",
    "_uuid": "d629ff2d2480ee46fbb7e2d37f6b5fab8052498a",
    "colab": {},
    "colab_type": "code",
    "id": "oyGfxL3eVp9-"
   },
   "outputs": [
    {
     "data": {
      "text/html": [
       "<div>\n",
       "<style scoped>\n",
       "    .dataframe tbody tr th:only-of-type {\n",
       "        vertical-align: middle;\n",
       "    }\n",
       "\n",
       "    .dataframe tbody tr th {\n",
       "        vertical-align: top;\n",
       "    }\n",
       "\n",
       "    .dataframe thead th {\n",
       "        text-align: right;\n",
       "    }\n",
       "</style>\n",
       "<table border=\"1\" class=\"dataframe\">\n",
       "  <thead>\n",
       "    <tr style=\"text-align: right;\">\n",
       "      <th></th>\n",
       "      <th>imdb_id</th>\n",
       "      <th>budget</th>\n",
       "      <th>revenue</th>\n",
       "      <th>original_title</th>\n",
       "      <th>cast</th>\n",
       "      <th>director</th>\n",
       "      <th>tagline</th>\n",
       "      <th>overview</th>\n",
       "      <th>runtime</th>\n",
       "      <th>genres</th>\n",
       "      <th>production_companies</th>\n",
       "      <th>release_date</th>\n",
       "      <th>vote_average</th>\n",
       "      <th>release_year</th>\n",
       "    </tr>\n",
       "  </thead>\n",
       "  <tbody>\n",
       "    <tr>\n",
       "      <th>540</th>\n",
       "      <td>tt0120681</td>\n",
       "      <td>35000000</td>\n",
       "      <td>74558115</td>\n",
       "      <td>From Hell</td>\n",
       "      <td>Johnny Depp|Heather Graham|Ian Holm|Robbie Col...</td>\n",
       "      <td>Albert Hughes|Allen Hughes</td>\n",
       "      <td>Only the legend will survive.</td>\n",
       "      <td>Frederick Abberline is an opium-huffing inspec...</td>\n",
       "      <td>122</td>\n",
       "      <td>Horror|Mystery|Thriller</td>\n",
       "      <td>Twentieth Century Fox Film Corporation|Underwo...</td>\n",
       "      <td>10/19/2001</td>\n",
       "      <td>6.4</td>\n",
       "      <td>2001</td>\n",
       "    </tr>\n",
       "    <tr>\n",
       "      <th>1841</th>\n",
       "      <td>tt0183505</td>\n",
       "      <td>51000000</td>\n",
       "      <td>149270999</td>\n",
       "      <td>Me, Myself &amp; Irene</td>\n",
       "      <td>Jim Carrey|RenÃ©e Zellweger|Anthony Anderson|R...</td>\n",
       "      <td>Peter Farrelly|Bobby Farrelly</td>\n",
       "      <td>From gentle to mental.</td>\n",
       "      <td>Rhode Island State Trooper Charlie Baileygates...</td>\n",
       "      <td>116</td>\n",
       "      <td>Comedy</td>\n",
       "      <td>Twentieth Century Fox Film Corporation|Conundr...</td>\n",
       "      <td>6/22/2000</td>\n",
       "      <td>5.9</td>\n",
       "      <td>2000</td>\n",
       "    </tr>\n",
       "    <tr>\n",
       "      <th>759</th>\n",
       "      <td>tt1306980</td>\n",
       "      <td>8000000</td>\n",
       "      <td>39187783</td>\n",
       "      <td>50/50</td>\n",
       "      <td>Joseph Gordon-Levitt|Seth Rogen|Anna Kendrick|...</td>\n",
       "      <td>Jonathan Levine</td>\n",
       "      <td>It takes a pair to beat the odds.</td>\n",
       "      <td>Inspired by a true story, a comedy centered on...</td>\n",
       "      <td>100</td>\n",
       "      <td>Comedy|Drama</td>\n",
       "      <td>Summit Entertainment|Mandate Pictures</td>\n",
       "      <td>9/30/2011</td>\n",
       "      <td>6.8</td>\n",
       "      <td>2011</td>\n",
       "    </tr>\n",
       "    <tr>\n",
       "      <th>1528</th>\n",
       "      <td>tt0446046</td>\n",
       "      <td>30000000</td>\n",
       "      <td>34742066</td>\n",
       "      <td>Take the Lead</td>\n",
       "      <td>Antonio Banderas|Rob Brown|Yaya DaCosta|Alfre ...</td>\n",
       "      <td>Liz Friedlander</td>\n",
       "      <td>Never Follow</td>\n",
       "      <td>A former professional dancer volunteers to tea...</td>\n",
       "      <td>108</td>\n",
       "      <td>Music</td>\n",
       "      <td>New Line Cinema|Tiara Blu Films</td>\n",
       "      <td>3/17/2006</td>\n",
       "      <td>6.4</td>\n",
       "      <td>2006</td>\n",
       "    </tr>\n",
       "    <tr>\n",
       "      <th>1561</th>\n",
       "      <td>tt0378194</td>\n",
       "      <td>30000000</td>\n",
       "      <td>152159461</td>\n",
       "      <td>Kill Bill: Vol. 2</td>\n",
       "      <td>Uma Thurman|David Carradine|Daryl Hannah|Micha...</td>\n",
       "      <td>Quentin Tarantino</td>\n",
       "      <td>The bride is back for the final cut.</td>\n",
       "      <td>The Bride unwaveringly continues on her roarin...</td>\n",
       "      <td>136</td>\n",
       "      <td>Action|Crime|Thriller</td>\n",
       "      <td>Miramax Films|A Band Apart|Super Cool ManChu</td>\n",
       "      <td>4/16/2004</td>\n",
       "      <td>7.5</td>\n",
       "      <td>2004</td>\n",
       "    </tr>\n",
       "  </tbody>\n",
       "</table>\n",
       "</div>"
      ],
      "text/plain": [
       "        imdb_id    budget    revenue      original_title  \\\n",
       "540   tt0120681  35000000   74558115           From Hell   \n",
       "1841  tt0183505  51000000  149270999  Me, Myself & Irene   \n",
       "759   tt1306980   8000000   39187783               50/50   \n",
       "1528  tt0446046  30000000   34742066       Take the Lead   \n",
       "1561  tt0378194  30000000  152159461   Kill Bill: Vol. 2   \n",
       "\n",
       "                                                   cast  \\\n",
       "540   Johnny Depp|Heather Graham|Ian Holm|Robbie Col...   \n",
       "1841  Jim Carrey|RenÃ©e Zellweger|Anthony Anderson|R...   \n",
       "759   Joseph Gordon-Levitt|Seth Rogen|Anna Kendrick|...   \n",
       "1528  Antonio Banderas|Rob Brown|Yaya DaCosta|Alfre ...   \n",
       "1561  Uma Thurman|David Carradine|Daryl Hannah|Micha...   \n",
       "\n",
       "                           director                               tagline  \\\n",
       "540      Albert Hughes|Allen Hughes         Only the legend will survive.   \n",
       "1841  Peter Farrelly|Bobby Farrelly                From gentle to mental.   \n",
       "759                 Jonathan Levine     It takes a pair to beat the odds.   \n",
       "1528                Liz Friedlander                          Never Follow   \n",
       "1561              Quentin Tarantino  The bride is back for the final cut.   \n",
       "\n",
       "                                               overview  runtime  \\\n",
       "540   Frederick Abberline is an opium-huffing inspec...      122   \n",
       "1841  Rhode Island State Trooper Charlie Baileygates...      116   \n",
       "759   Inspired by a true story, a comedy centered on...      100   \n",
       "1528  A former professional dancer volunteers to tea...      108   \n",
       "1561  The Bride unwaveringly continues on her roarin...      136   \n",
       "\n",
       "                       genres  \\\n",
       "540   Horror|Mystery|Thriller   \n",
       "1841                   Comedy   \n",
       "759              Comedy|Drama   \n",
       "1528                    Music   \n",
       "1561    Action|Crime|Thriller   \n",
       "\n",
       "                                   production_companies release_date  \\\n",
       "540   Twentieth Century Fox Film Corporation|Underwo...   10/19/2001   \n",
       "1841  Twentieth Century Fox Film Corporation|Conundr...    6/22/2000   \n",
       "759               Summit Entertainment|Mandate Pictures    9/30/2011   \n",
       "1528                    New Line Cinema|Tiara Blu Films    3/17/2006   \n",
       "1561       Miramax Films|A Band Apart|Super Cool ManChu    4/16/2004   \n",
       "\n",
       "      vote_average  release_year  \n",
       "540            6.4          2001  \n",
       "1841           5.9          2000  \n",
       "759            6.8          2011  \n",
       "1528           6.4          2006  \n",
       "1561           7.5          2004  "
      ]
     },
     "execution_count": 285,
     "metadata": {},
     "output_type": "execute_result"
    }
   ],
   "source": [
    "Original_data = pd.read_csv('movie_bd_v5.csv')\n",
    "Original_data.sample(5)"
   ]
  },
  {
   "cell_type": "code",
   "execution_count": 286,
   "metadata": {
    "colab": {},
    "colab_type": "code",
    "id": "CoYUnagMVp-C"
   },
   "outputs": [
    {
     "data": {
      "text/html": [
       "<div>\n",
       "<style scoped>\n",
       "    .dataframe tbody tr th:only-of-type {\n",
       "        vertical-align: middle;\n",
       "    }\n",
       "\n",
       "    .dataframe tbody tr th {\n",
       "        vertical-align: top;\n",
       "    }\n",
       "\n",
       "    .dataframe thead th {\n",
       "        text-align: right;\n",
       "    }\n",
       "</style>\n",
       "<table border=\"1\" class=\"dataframe\">\n",
       "  <thead>\n",
       "    <tr style=\"text-align: right;\">\n",
       "      <th></th>\n",
       "      <th>budget</th>\n",
       "      <th>revenue</th>\n",
       "      <th>runtime</th>\n",
       "      <th>vote_average</th>\n",
       "      <th>release_year</th>\n",
       "      <th>profit</th>\n",
       "    </tr>\n",
       "  </thead>\n",
       "  <tbody>\n",
       "    <tr>\n",
       "      <th>count</th>\n",
       "      <td>1.889000e+03</td>\n",
       "      <td>1.889000e+03</td>\n",
       "      <td>1889.000000</td>\n",
       "      <td>1889.000000</td>\n",
       "      <td>1889.000000</td>\n",
       "      <td>1.889000e+03</td>\n",
       "    </tr>\n",
       "    <tr>\n",
       "      <th>mean</th>\n",
       "      <td>5.431083e+07</td>\n",
       "      <td>1.553653e+08</td>\n",
       "      <td>109.658549</td>\n",
       "      <td>6.140762</td>\n",
       "      <td>2007.860773</td>\n",
       "      <td>1.010545e+08</td>\n",
       "    </tr>\n",
       "    <tr>\n",
       "      <th>std</th>\n",
       "      <td>4.858721e+07</td>\n",
       "      <td>2.146698e+08</td>\n",
       "      <td>18.017041</td>\n",
       "      <td>0.764763</td>\n",
       "      <td>4.468841</td>\n",
       "      <td>1.830733e+08</td>\n",
       "    </tr>\n",
       "    <tr>\n",
       "      <th>min</th>\n",
       "      <td>5.000000e+06</td>\n",
       "      <td>2.033165e+06</td>\n",
       "      <td>63.000000</td>\n",
       "      <td>3.300000</td>\n",
       "      <td>2000.000000</td>\n",
       "      <td>-1.657101e+08</td>\n",
       "    </tr>\n",
       "    <tr>\n",
       "      <th>25%</th>\n",
       "      <td>2.000000e+07</td>\n",
       "      <td>3.456058e+07</td>\n",
       "      <td>97.000000</td>\n",
       "      <td>5.600000</td>\n",
       "      <td>2004.000000</td>\n",
       "      <td>5.000000e+06</td>\n",
       "    </tr>\n",
       "    <tr>\n",
       "      <th>50%</th>\n",
       "      <td>3.800000e+07</td>\n",
       "      <td>8.361541e+07</td>\n",
       "      <td>107.000000</td>\n",
       "      <td>6.100000</td>\n",
       "      <td>2008.000000</td>\n",
       "      <td>4.400041e+07</td>\n",
       "    </tr>\n",
       "    <tr>\n",
       "      <th>75%</th>\n",
       "      <td>7.200000e+07</td>\n",
       "      <td>1.782626e+08</td>\n",
       "      <td>120.000000</td>\n",
       "      <td>6.600000</td>\n",
       "      <td>2012.000000</td>\n",
       "      <td>1.201842e+08</td>\n",
       "    </tr>\n",
       "    <tr>\n",
       "      <th>max</th>\n",
       "      <td>3.800000e+08</td>\n",
       "      <td>2.781506e+09</td>\n",
       "      <td>214.000000</td>\n",
       "      <td>8.100000</td>\n",
       "      <td>2015.000000</td>\n",
       "      <td>2.544506e+09</td>\n",
       "    </tr>\n",
       "  </tbody>\n",
       "</table>\n",
       "</div>"
      ],
      "text/plain": [
       "             budget       revenue      runtime  vote_average  release_year  \\\n",
       "count  1.889000e+03  1.889000e+03  1889.000000   1889.000000   1889.000000   \n",
       "mean   5.431083e+07  1.553653e+08   109.658549      6.140762   2007.860773   \n",
       "std    4.858721e+07  2.146698e+08    18.017041      0.764763      4.468841   \n",
       "min    5.000000e+06  2.033165e+06    63.000000      3.300000   2000.000000   \n",
       "25%    2.000000e+07  3.456058e+07    97.000000      5.600000   2004.000000   \n",
       "50%    3.800000e+07  8.361541e+07   107.000000      6.100000   2008.000000   \n",
       "75%    7.200000e+07  1.782626e+08   120.000000      6.600000   2012.000000   \n",
       "max    3.800000e+08  2.781506e+09   214.000000      8.100000   2015.000000   \n",
       "\n",
       "             profit  \n",
       "count  1.889000e+03  \n",
       "mean   1.010545e+08  \n",
       "std    1.830733e+08  \n",
       "min   -1.657101e+08  \n",
       "25%    5.000000e+06  \n",
       "50%    4.400041e+07  \n",
       "75%    1.201842e+08  \n",
       "max    2.544506e+09  "
      ]
     },
     "execution_count": 286,
     "metadata": {},
     "output_type": "execute_result"
    }
   ],
   "source": [
    "data.describe()"
   ]
  },
  {
   "cell_type": "markdown",
   "metadata": {
    "colab_type": "text",
    "id": "DTIt7ezGVp-G"
   },
   "source": [
    "# Предобработка"
   ]
  },
  {
   "cell_type": "code",
   "execution_count": 287,
   "metadata": {
    "colab": {},
    "colab_type": "code",
    "id": "jNb40DwKVp-H"
   },
   "outputs": [],
   "source": [
    "answers = {} # создадим словарь для ответов\n",
    "data = {}\n",
    "data = Original_data.copy() # Create a copy in order not to make changes to the original database.\n",
    "\n",
    "\n",
    "# Create a profit column\n",
    "data['profit'] = data['revenue'] - data['budget'] \n",
    "#the time given in the dataset is in string format.\n",
    "# So we need to change this in datetime format\n",
    "\n",
    "data.release_date = pd.to_datetime(data['release_date'])\n",
    "# Split columns and list them\n",
    "\n",
    "def spliter (in_str):\n",
    "    return list(in_str.split(\"|\")) \n",
    "\n",
    "data.genres = data.genres.apply(spliter) \n",
    "data.director = data.director.apply(spliter)\n",
    "data.cast = data.cast.apply(spliter)\n",
    "\n",
    "\n",
    "def cols_counter (x_ser):\n",
    "    x_dict = {}\n",
    "    for x_list in x_ser:\n",
    "        for x in x_list:\n",
    "            x_dict.setdefault(x, 0)\n",
    "            x_dict[x] += 1\n",
    "    return DataFrame.from_dict(x_dict, orient='index',columns=[\"col\"])\\\n",
    "             .sort_values(by=\"col\",ascending=False)\n",
    "\n"
   ]
  },
  {
   "cell_type": "markdown",
   "metadata": {
    "colab_type": "text",
    "id": "YxZaH-nPVp-L"
   },
   "source": [
    "# 1. У какого фильма из списка самый большой бюджет?"
   ]
  },
  {
   "cell_type": "markdown",
   "metadata": {
    "colab_type": "text",
    "id": "Nd-G5gX6Vp-M"
   },
   "source": [
    "Использовать варианты ответов в коде решения запрещено.    \n",
    "Вы думаете и в жизни у вас будут варианты ответов?)"
   ]
  },
  {
   "cell_type": "code",
   "execution_count": 288,
   "metadata": {},
   "outputs": [
    {
     "name": "stdout",
     "output_type": "stream",
     "text": [
      " (tt1298650) Pirates of the Caribbean: On Stranger Tides with a budget of 380000000$\n"
     ]
    }
   ],
   "source": [
    "data_budget = data[data.budget == data.budget.max()].iloc[0]\n",
    "\n",
    "answers['1'] = \" (\" + data_budget['imdb_id'] + \") \" + data_budget['original_title'] +  \" with a budget of \" + str(data_budget['budget']) + \"$\"\n",
    "\n",
    "print(answers['1'] )"
   ]
  },
  {
   "cell_type": "markdown",
   "metadata": {
    "colab_type": "text",
    "id": "K7L3nbRXVp-X"
   },
   "source": [
    "ВАРИАНТ 2"
   ]
  },
  {
   "cell_type": "code",
   "execution_count": 24,
   "metadata": {
    "colab": {},
    "colab_type": "code",
    "id": "OGaoQI7rVp-X"
   },
   "outputs": [
    {
     "data": {
      "text/plain": [
       "' (tt1298650) Pirates of the Caribbean: On Stranger Tides with a budget of 380000000$'"
      ]
     },
     "execution_count": 24,
     "metadata": {},
     "output_type": "execute_result"
    }
   ],
   "source": [
    "data_budget = data.loc[data.budget.sort_values(ascending=False).index[0]]\n",
    "\n",
    "answers['1'] = \"(\" + data_budget['imdb_id'] + \") \" + data_budget['original_title'] +  \" with a budget of \" + str(data_budget['budget']) + \"$\"\n",
    "\n",
    "print(answers['1'] )"
   ]
  },
  {
   "cell_type": "markdown",
   "metadata": {
    "colab_type": "text",
    "id": "FNRbbI3vVp-c"
   },
   "source": [
    "# 2. Какой из фильмов самый длительный (в минутах)?"
   ]
  },
  {
   "cell_type": "code",
   "execution_count": 289,
   "metadata": {
    "colab": {},
    "colab_type": "code",
    "id": "vHAoEXNTVp-d"
   },
   "outputs": [
    {
     "name": "stdout",
     "output_type": "stream",
     "text": [
      "(tt0279111) \"Gods and Generals\"  with duration of 214 min\n"
     ]
    }
   ],
   "source": [
    "data_time = data[data.runtime == data.runtime.max()].iloc[0]\n",
    "\n",
    "title = data_time['original_title']\n",
    "imdb_id = \"(\" + data_time['imdb_id'] + \")\"\n",
    "duration = str(data_time['runtime'])\n",
    "\n",
    "answers['2'] = f'{imdb_id} \"{title}\"  with duration of {duration} min'\n",
    "\n",
    "print(answers['2'])"
   ]
  },
  {
   "cell_type": "code",
   "execution_count": 33,
   "metadata": {
    "colab": {},
    "colab_type": "code",
    "id": "ot-VX2XrVp-g"
   },
   "outputs": [
    {
     "name": "stdout",
     "output_type": "stream",
     "text": [
      "(tt0279111) \"Gods and Generals\"  with duration of 214 min\n"
     ]
    }
   ],
   "source": [
    "data_time = data.loc[data.runtime.sort_values(ascending=False).index[0]]\n",
    "\n",
    "title = data_time['original_title']\n",
    "imdb_id = \"(\" + data_time['imdb_id'] + \")\"\n",
    "duration = str(data_time['runtime'])\n",
    "\n",
    "answers['2'] = f'{imdb_id} \"{title}\"  with duration of {duration} min'\n",
    "\n",
    "print (answers['2'])"
   ]
  },
  {
   "cell_type": "markdown",
   "metadata": {
    "colab_type": "text",
    "id": "bapLlpW8Vp-k"
   },
   "source": [
    "# 3. Какой из фильмов самый короткий (в минутах)?\n",
    "\n",
    "\n",
    "\n"
   ]
  },
  {
   "cell_type": "code",
   "execution_count": 34,
   "metadata": {
    "colab": {},
    "colab_type": "code",
    "id": "YBxaSHuAVp-l"
   },
   "outputs": [
    {
     "name": "stdout",
     "output_type": "stream",
     "text": [
      "(tt1449283) \"Winnie the Pooh\"  with duration of 63 min\n"
     ]
    }
   ],
   "source": [
    "data_time = data[data.runtime == data.runtime.min()].iloc[0]\n",
    "\n",
    "title = data_time['original_title']\n",
    "imdb_id = \"(\" + data_time['imdb_id'] + \")\"\n",
    "duration = str(data_time['runtime'])\n",
    "\n",
    "answers['3'] = f'{imdb_id} \"{title}\"  with duration of {duration} min'\n",
    "\n",
    "print(answers['3'])"
   ]
  },
  {
   "cell_type": "code",
   "execution_count": 35,
   "metadata": {},
   "outputs": [
    {
     "name": "stdout",
     "output_type": "stream",
     "text": [
      "(tt1449283) \"Winnie the Pooh\"  with duration of 63 min\n"
     ]
    }
   ],
   "source": [
    "data_time = data.loc[data.runtime.sort_values(ascending=False).index[-1]]\n",
    "\n",
    "title = data_time['original_title']\n",
    "imdb_id = \"(\" + data_time['imdb_id'] + \")\"\n",
    "duration = str(data_time['runtime'])\n",
    "\n",
    "answers['3'] = f'{imdb_id} \"{title}\"  with duration of {duration} min'\n",
    "\n",
    "print (answers['3'])"
   ]
  },
  {
   "cell_type": "code",
   "execution_count": 36,
   "metadata": {},
   "outputs": [
    {
     "name": "stdout",
     "output_type": "stream",
     "text": [
      "(tt1449283) \"Winnie the Pooh\"  with duration of 63 min\n"
     ]
    }
   ],
   "source": [
    "data_time = data.loc[data.runtime.sort_values(ascending=True).index[0]]\n",
    "\n",
    "title = data_time['original_title']\n",
    "imdb_id = \"(\" + data_time['imdb_id'] + \")\"\n",
    "duration = str(data_time['runtime'])\n",
    "\n",
    "answers['3'] = f'{imdb_id} \"{title}\"  with duration of {duration} min'\n",
    "\n",
    "print (answers['3'])"
   ]
  },
  {
   "cell_type": "markdown",
   "metadata": {
    "colab_type": "text",
    "id": "TfQbxbfNVp-p"
   },
   "source": [
    "# 4. Какова средняя длительность фильмов?\n"
   ]
  },
  {
   "cell_type": "code",
   "execution_count": 40,
   "metadata": {
    "colab": {},
    "colab_type": "code",
    "id": "5K6dKZYVVp-q"
   },
   "outputs": [
    {
     "name": "stdout",
     "output_type": "stream",
     "text": [
      " The average length of a film is 110 minutes.\n"
     ]
    }
   ],
   "source": [
    "average_time = round(data.runtime.mean())\n",
    "\n",
    "answers['4'] = f' The average length of a film is {average_time} minutes.'\n",
    "\n",
    "print(answers['4'])"
   ]
  },
  {
   "cell_type": "markdown",
   "metadata": {
    "colab_type": "text",
    "id": "r5TvbnT_Vp-u"
   },
   "source": [
    "# 5. Каково медианное значение длительности фильмов? "
   ]
  },
  {
   "cell_type": "code",
   "execution_count": 42,
   "metadata": {
    "colab": {},
    "colab_type": "code",
    "id": "iBROplKnVp-v"
   },
   "outputs": [
    {
     "name": "stdout",
     "output_type": "stream",
     "text": [
      " The median length of a film is 107 minutes.\n"
     ]
    }
   ],
   "source": [
    "median_time = round(data.runtime.median())\n",
    "\n",
    "answers['5'] = f' The median length of a film is {median_time} minutes.'\n",
    "\n",
    "print(answers['5'])"
   ]
  },
  {
   "cell_type": "markdown",
   "metadata": {
    "colab_type": "text",
    "id": "39P-deDSVp-y"
   },
   "source": [
    "# 6. Какой самый прибыльный фильм?\n",
    "#### Внимание! Здесь и далее под «прибылью» или «убытками» понимается разность между сборами и бюджетом фильма. (прибыль = сборы - бюджет) в нашем датасете это будет (profit = revenue - budget) "
   ]
  },
  {
   "cell_type": "code",
   "execution_count": 50,
   "metadata": {
    "colab": {},
    "colab_type": "code",
    "id": "UYZh4T9WVp-y"
   },
   "outputs": [
    {
     "name": "stdout",
     "output_type": "stream",
     "text": [
      "(tt0499549) \"Avatar\" is the moust profitabel move which make $2544505847\n"
     ]
    }
   ],
   "source": [
    "# Для этого задания была создана отдельная колонка в предобработке\n",
    "# For this task, a separate column was created in preprocessing\n",
    "max_profit = data[data.profit == data.profit.max()].iloc[0]\n",
    "\n",
    "title = max_profit['original_title']\n",
    "imdb_id = \"(\" + max_profit['imdb_id'] + \")\"\n",
    "profit = str(max_profit['profit'])\n",
    "\n",
    "answers['6'] = f'{imdb_id} \"{title}\" is the most profitabel move which make ${profit}'\n",
    "print(answers['6'])"
   ]
  },
  {
   "cell_type": "markdown",
   "metadata": {},
   "source": [
    "Вариант 2 "
   ]
  },
  {
   "cell_type": "code",
   "execution_count": 52,
   "metadata": {},
   "outputs": [
    {
     "name": "stdout",
     "output_type": "stream",
     "text": [
      "(tt0499549) \"Avatar\" is the moust profitabel move which make $2544505847\n"
     ]
    }
   ],
   "source": [
    "max_profit = data.loc[data.profit.sort_values(ascending=False).index[0]]\n",
    "\n",
    "title = max_profit['original_title']\n",
    "imdb_id = \"(\" + max_profit['imdb_id'] + \")\"\n",
    "profit = str(max_profit['profit'])\n",
    "\n",
    "answers['6'] = f'{imdb_id} \"{title}\" is the most profitabel move which make ${profit}'\n",
    "print(answers['6'])"
   ]
  },
  {
   "cell_type": "markdown",
   "metadata": {
    "colab_type": "text",
    "id": "M99JmIX4Vp-2"
   },
   "source": [
    "# 7. Какой фильм самый убыточный? "
   ]
  },
  {
   "cell_type": "code",
   "execution_count": 58,
   "metadata": {
    "colab": {},
    "colab_type": "code",
    "id": "w-D2m4XPVp-3"
   },
   "outputs": [
    {
     "name": "stdout",
     "output_type": "stream",
     "text": [
      "(tt1210819) \"The Lone Ranger\" is movie with the biggest loss of -165710090$\n"
     ]
    }
   ],
   "source": [
    "max_loss = data.loc[data.profit.sort_values(ascending=False).index[-1]]\n",
    "\n",
    "title = max_loss['original_title']\n",
    "imdb_id = \"(\" + max_loss['imdb_id'] + \")\"\n",
    "profit = str(max_loss['profit'])\n",
    "\n",
    "answers['7'] = f'{imdb_id} \"{title}\" is movie with the biggest loss of {profit}$'\n",
    "print(answers['7'])"
   ]
  },
  {
   "cell_type": "markdown",
   "metadata": {},
   "source": [
    "Вариант 2"
   ]
  },
  {
   "cell_type": "code",
   "execution_count": 59,
   "metadata": {},
   "outputs": [
    {
     "name": "stdout",
     "output_type": "stream",
     "text": [
      "(tt1210819) \"The Lone Ranger\" is movie with the biggest loss of -165710090$\n"
     ]
    }
   ],
   "source": [
    "max_loss = data[data.profit == data.profit.min()].iloc[0]\n",
    "\n",
    "title = max_loss['original_title']\n",
    "imdb_id = \"(\" + max_loss['imdb_id'] + \")\"\n",
    "profit = str(max_loss['profit'])\n",
    "\n",
    "answers['7'] = f'{imdb_id} \"{title}\" is movie with the biggest loss of {profit}$'\n",
    "print(answers['7'])"
   ]
  },
  {
   "cell_type": "markdown",
   "metadata": {},
   "source": [
    "Вариант 3 "
   ]
  },
  {
   "cell_type": "code",
   "execution_count": 60,
   "metadata": {},
   "outputs": [
    {
     "name": "stdout",
     "output_type": "stream",
     "text": [
      "(tt1210819) \"The Lone Ranger\" is movie with the biggest loss of -165710090$\n"
     ]
    }
   ],
   "source": [
    "max_loss = data.loc[data.profit.sort_values(ascending=True).index[0]]\n",
    "\n",
    "title = max_loss['original_title']\n",
    "imdb_id = \"(\" + max_loss['imdb_id'] + \")\"\n",
    "profit = str(max_loss['profit'])\n",
    "\n",
    "answers['7'] = f'{imdb_id} \"{title}\" is movie with the biggest loss of {profit}$'\n",
    "print(answers['7'])"
   ]
  },
  {
   "cell_type": "markdown",
   "metadata": {
    "colab_type": "text",
    "id": "wEOM5ERVVp-6"
   },
   "source": [
    "# 8. У скольких фильмов из датасета объем сборов оказался выше бюджета?"
   ]
  },
  {
   "cell_type": "code",
   "execution_count": 63,
   "metadata": {
    "colab": {},
    "colab_type": "code",
    "id": "y00_7HD6Vp-7"
   },
   "outputs": [
    {
     "name": "stdout",
     "output_type": "stream",
     "text": [
      " 1478 moves are profitable.\n"
     ]
    }
   ],
   "source": [
    "profit_count = len(data[data.profit > 0])\n",
    "\n",
    "answers['8'] = f' {profit_count} moves are profitable.' \n",
    "\n",
    "print(answers['8'])"
   ]
  },
  {
   "cell_type": "markdown",
   "metadata": {
    "colab_type": "text",
    "id": "xhpspA9KVp_A"
   },
   "source": [
    "# 9. Какой фильм оказался самым кассовым в 2008 году?"
   ]
  },
  {
   "cell_type": "code",
   "execution_count": 80,
   "metadata": {
    "colab": {},
    "colab_type": "code",
    "id": "MoUyQr9RVp_B"
   },
   "outputs": [
    {
     "name": "stdout",
     "output_type": "stream",
     "text": [
      "The highest grossing film of 2008 is (tt0468569) \"The Dark Knight\" with the revenue of 1001921825$.  \n"
     ]
    }
   ],
   "source": [
    "data_2008 = data[data.release_year == 2008]\n",
    "MaxRevenu_2008 = data_2008[data_2008.revenue == data_2008.revenue.max()].iloc[0]\n",
    "\n",
    "title = MaxRevenu_2008['original_title']\n",
    "imdb_id = \"(\" + MaxRevenu_2008['imdb_id'] + \")\"\n",
    "revenue = str(MaxRevenu_2008['revenue'])\n",
    "\n",
    "answers['9'] = f'The highest grossing film of 2008 is {imdb_id} \"{title}\" with the revenue of {revenue}$.  '\n",
    "\n",
    "print(answers['9'])"
   ]
  },
  {
   "cell_type": "markdown",
   "metadata": {
    "colab_type": "text",
    "id": "Zi4hDKidVp_F"
   },
   "source": [
    "# 10. Самый убыточный фильм за период с 2012 по 2014 г. (включительно)?\n"
   ]
  },
  {
   "cell_type": "code",
   "execution_count": 82,
   "metadata": {
    "colab": {},
    "colab_type": "code",
    "id": "XqyRmufJVp_F"
   },
   "outputs": [
    {
     "name": "stdout",
     "output_type": "stream",
     "text": [
      "The most unprofitable film from 2012 to 2014 is (tt1210819) \"The Lone Ranger\" with -165710090 of loss. \n"
     ]
    }
   ],
   "source": [
    "data_2012_14 = data[(2012 <= data.release_year) & (data.release_year <= 2014)]\n",
    "MaxLoss_2012_14 = data_2012_14[data_2012_14.profit == data_2012_14.profit.min()].iloc[0]\n",
    "\n",
    "title = '\"' + MaxLoss_2012_14['original_title'] + '\"'\n",
    "imdb_id = \"(\" + MaxLoss_2012_14['imdb_id'] + \")\"\n",
    "loss = str(MaxLoss_2012_14['profit'])\n",
    "\n",
    "answers['10'] = f'The most unprofitable film from 2012 to 2014 is {imdb_id} {title} with {loss} of loss. '\n",
    "print(answers['10'])"
   ]
  },
  {
   "cell_type": "markdown",
   "metadata": {
    "colab_type": "text",
    "id": "EA7Sa9dkVp_I"
   },
   "source": [
    "# 11. Какого жанра фильмов больше всего?"
   ]
  },
  {
   "cell_type": "markdown",
   "metadata": {},
   "source": [
    "ВАРИАНТ 1 *Работает если не применить функцию splitter на разделение жанров в предобработке* \n",
    "\n",
    "*Works if you do not use the splitter function to separate genres in preprocessing *"
   ]
  },
  {
   "cell_type": "code",
   "execution_count": 120,
   "metadata": {
    "colab": {},
    "colab_type": "code",
    "id": "zsJAwJ8QVp_J"
   },
   "outputs": [
    {
     "ename": "TypeError",
     "evalue": "Cannot use .str.cat with values of inferred dtype 'mixed'.",
     "output_type": "error",
     "traceback": [
      "\u001b[1;31m---------------------------------------------------------------------------\u001b[0m",
      "\u001b[1;31mTypeError\u001b[0m                                 Traceback (most recent call last)",
      "\u001b[1;32m<ipython-input-120-f34cf9339ec6>\u001b[0m in \u001b[0;36m<module>\u001b[1;34m\u001b[0m\n\u001b[0;32m      1\u001b[0m \u001b[1;31m# эту задачу тоже можно решать разными подходами, попробуй реализовать разные варианты\u001b[0m\u001b[1;33m\u001b[0m\u001b[1;33m\u001b[0m\u001b[1;33m\u001b[0m\u001b[0m\n\u001b[0;32m      2\u001b[0m \u001b[1;31m# если будешь добавлять функцию - выноси ее в предобработку что в начале\u001b[0m\u001b[1;33m\u001b[0m\u001b[1;33m\u001b[0m\u001b[1;33m\u001b[0m\u001b[0m\n\u001b[1;32m----> 3\u001b[1;33m \u001b[0mpd\u001b[0m\u001b[1;33m.\u001b[0m\u001b[0mSeries\u001b[0m\u001b[1;33m(\u001b[0m\u001b[0mdata\u001b[0m\u001b[1;33m[\u001b[0m\u001b[1;34m'genres'\u001b[0m\u001b[1;33m]\u001b[0m\u001b[1;33m.\u001b[0m\u001b[0mstr\u001b[0m\u001b[1;33m.\u001b[0m\u001b[0mcat\u001b[0m\u001b[1;33m(\u001b[0m\u001b[0msep\u001b[0m\u001b[1;33m=\u001b[0m\u001b[1;34m'|'\u001b[0m\u001b[1;33m)\u001b[0m\u001b[1;33m.\u001b[0m\u001b[0msplit\u001b[0m\u001b[1;33m(\u001b[0m\u001b[1;34m'|'\u001b[0m\u001b[1;33m)\u001b[0m\u001b[1;33m)\u001b[0m\u001b[1;33m.\u001b[0m\u001b[0mvalue_counts\u001b[0m\u001b[1;33m(\u001b[0m\u001b[1;33m)\u001b[0m\u001b[1;33m[\u001b[0m\u001b[1;33m:\u001b[0m\u001b[1;36m1\u001b[0m\u001b[1;33m]\u001b[0m\u001b[1;33m\u001b[0m\u001b[1;33m\u001b[0m\u001b[0m\n\u001b[0m",
      "\u001b[1;32mD:\\kadafi\\Analytic\\Anaconda\\lib\\site-packages\\pandas\\core\\strings\\accessor.py\u001b[0m in \u001b[0;36mwrapper\u001b[1;34m(self, *args, **kwargs)\u001b[0m\n\u001b[0;32m     98\u001b[0m                     \u001b[1;34mf\"inferred dtype '{self._inferred_dtype}'.\"\u001b[0m\u001b[1;33m\u001b[0m\u001b[1;33m\u001b[0m\u001b[0m\n\u001b[0;32m     99\u001b[0m                 )\n\u001b[1;32m--> 100\u001b[1;33m                 \u001b[1;32mraise\u001b[0m \u001b[0mTypeError\u001b[0m\u001b[1;33m(\u001b[0m\u001b[0mmsg\u001b[0m\u001b[1;33m)\u001b[0m\u001b[1;33m\u001b[0m\u001b[1;33m\u001b[0m\u001b[0m\n\u001b[0m\u001b[0;32m    101\u001b[0m             \u001b[1;32mreturn\u001b[0m \u001b[0mfunc\u001b[0m\u001b[1;33m(\u001b[0m\u001b[0mself\u001b[0m\u001b[1;33m,\u001b[0m \u001b[1;33m*\u001b[0m\u001b[0margs\u001b[0m\u001b[1;33m,\u001b[0m \u001b[1;33m**\u001b[0m\u001b[0mkwargs\u001b[0m\u001b[1;33m)\u001b[0m\u001b[1;33m\u001b[0m\u001b[1;33m\u001b[0m\u001b[0m\n\u001b[0;32m    102\u001b[0m \u001b[1;33m\u001b[0m\u001b[0m\n",
      "\u001b[1;31mTypeError\u001b[0m: Cannot use .str.cat with values of inferred dtype 'mixed'."
     ]
    }
   ],
   "source": [
    "pd.Series(data['genres'].str.cat(sep='|').split('|')).value_counts()[:1]\n",
    "\n"
   ]
  },
  {
   "cell_type": "markdown",
   "metadata": {
    "colab_type": "text",
    "id": "Ax6g2C8SVp_M"
   },
   "source": [
    "ВАРИАНТ 2"
   ]
  },
  {
   "cell_type": "code",
   "execution_count": 128,
   "metadata": {
    "colab": {},
    "colab_type": "code",
    "id": "otO3SbrSVp_N"
   },
   "outputs": [
    {
     "name": "stdout",
     "output_type": "stream",
     "text": [
      " Drama genre occurs 782 times\n"
     ]
    }
   ],
   "source": [
    "genres_max = cols_counter (data[\"genres\"])\n",
    "\n",
    "genre_answ = genres_max.index[0]\n",
    "count_answ = genres_max.iloc[0].col\n",
    "\n",
    "answers['11'] = f' {genre_answ} genre occurs {count_answ} times'\n",
    "print(answers['11'])"
   ]
  },
  {
   "cell_type": "markdown",
   "metadata": {
    "colab_type": "text",
    "id": "T9_bPWpkVp_Q"
   },
   "source": [
    "# 12. Фильмы какого жанра чаще всего становятся прибыльными? "
   ]
  },
  {
   "cell_type": "code",
   "execution_count": 136,
   "metadata": {
    "colab": {},
    "colab_type": "code",
    "id": "Tmt8MaK1Vp_R"
   },
   "outputs": [
    {
     "name": "stdout",
     "output_type": "stream",
     "text": [
      "The largest number of profit films came out in the Drama genre. There are 560 of them.\n"
     ]
    }
   ],
   "source": [
    "profit_genre = cols_counter(data[data.profit > 0][\"genres\"])\n",
    "\n",
    "ProfitGanre_answ = profit_genre.index[0]\n",
    "ProfitCount_answ = profit_genre.iloc[0].col\n",
    "\n",
    "answers['12'] = f'The largest number of profit films came out in the {ProfitGanre_answ} genre. There are {ProfitCount_answ} of them.'\n",
    "print(answers['12'])"
   ]
  },
  {
   "cell_type": "markdown",
   "metadata": {
    "colab_type": "text",
    "id": "0F23bgsDVp_U"
   },
   "source": [
    "# 13. У какого режиссера самые большие суммарные кассовые сборы?"
   ]
  },
  {
   "cell_type": "code",
   "execution_count": 156,
   "metadata": {
    "colab": {},
    "colab_type": "code",
    "id": "K6Z3J8ygVp_X"
   },
   "outputs": [
    {
     "name": "stdout",
     "output_type": "stream",
     "text": [
      "The director Peter Jackson has the largest film box office. Their total amount is $6490593685. \n"
     ]
    }
   ],
   "source": [
    "direc_revenue = data[[\"director\",\"revenue\"]].explode(\"director\").groupby(by = 'director').revenue.sum()\\\n",
    "                .sort_values(ascending = False)\n",
    "\n",
    "direc_name = direc_revenue.index[0]\n",
    "total_revenue = direc_revenue[0]\n",
    "answers['13'] = f'The director {direc_name} has the largest film box office. Their total amount is ${total_revenue}. '\n",
    "print(answers['13'])"
   ]
  },
  {
   "cell_type": "markdown",
   "metadata": {
    "colab_type": "text",
    "id": "PsYC9FgRVp_a"
   },
   "source": [
    "# 14. Какой режисер снял больше всего фильмов в стиле Action?"
   ]
  },
  {
   "cell_type": "code",
   "execution_count": 167,
   "metadata": {
    "colab": {},
    "colab_type": "code",
    "id": "wd2M-wHeVp_b"
   },
   "outputs": [
    {
     "name": "stdout",
     "output_type": "stream",
     "text": [
      " Robert Rodriguez shots the bigges amount of Action films. There are 9 Action films in total.\n"
     ]
    }
   ],
   "source": [
    "data_exp = data[[\"genres\",\"director\"]].explode(\"genres\").explode(\"director\")\n",
    "\n",
    "direc_action = data_exp[data_exp.genres==\"Action\"]\\\n",
    "        .groupby(by = 'director')\\\n",
    "        .director\\\n",
    "        .agg(['count'])\\\n",
    "        .sort_values(by='count', ascending=False)\\\n",
    "        .head(10)\n",
    "\n",
    "\n",
    "direc_name = direc_action.index[0]\n",
    "movie_count = direc_action[\"count\"][0]\n",
    "\n",
    "answers['13'] = f' {direc_name} shots the bigges amount of Action films. There are {movie_count} Action films in total.'\n",
    "print(answers['13'])"
   ]
  },
  {
   "cell_type": "markdown",
   "metadata": {
    "colab_type": "text",
    "id": "PQ0KciD7Vp_f"
   },
   "source": [
    "# 15. Фильмы с каким актером принесли самые высокие кассовые сборы в 2012 году? "
   ]
  },
  {
   "cell_type": "code",
   "execution_count": 174,
   "metadata": {
    "colab": {},
    "colab_type": "code",
    "id": "aga62oeKVp_g"
   },
   "outputs": [
    {
     "name": "stdout",
     "output_type": "stream",
     "text": [
      "The highest box office receipts in 2012 were brought by films with Chris Hemsworth. Their sum is 2027450773.\n"
     ]
    }
   ],
   "source": [
    "cast_revenue = data[data.release_year == 2012][['cast', 'revenue']].explode('cast').groupby(by = 'cast')\\\n",
    "    .revenue.sum()\\\n",
    "    .sort_values(ascending = False)\n",
    "\n",
    "cast_name = cast_revenue.index[0]\n",
    "TotalCast_revenue = cast_revenue[0]\n",
    "\n",
    "answers['15'] = f'The highest box office receipts in 2012 were brought by films with {cast_name }. Their sum is {TotalCast_revenue}.' \n",
    "\n",
    "print (answers['15'])"
   ]
  },
  {
   "cell_type": "markdown",
   "metadata": {
    "colab_type": "text",
    "id": "mWHyyL7QVp_j"
   },
   "source": [
    "# 16. Какой актер снялся в большем количестве высокобюджетных фильмов?"
   ]
  },
  {
   "cell_type": "code",
   "execution_count": 176,
   "metadata": {
    "colab": {},
    "colab_type": "code",
    "id": "qQtmHKTFVp_k"
   },
   "outputs": [
    {
     "name": "stdout",
     "output_type": "stream",
     "text": [
      "Matt Damon has starred in the largest number of high-budget films. There are 18 of them.\n"
     ]
    }
   ],
   "source": [
    "HighBudget_cast = data[data.budget > data.budget.mean()]['cast'].explode().value_counts()\n",
    "\n",
    "HighBudget_name = HighBudget_cast.index[0]\n",
    "HighBudge_count = HighBudget_cast[0]\n",
    "\n",
    "answers['16'] = f'{HighBudget_name} has starred in the largest number of high-budget films. There are {HighBudge_count} of them.'\n",
    "\n",
    "print(answers['16'])"
   ]
  },
  {
   "cell_type": "markdown",
   "metadata": {
    "colab_type": "text",
    "id": "NIh6AaW5Vp_n"
   },
   "source": [
    "# 17. В фильмах какого жанра больше всего снимался Nicolas Cage? "
   ]
  },
  {
   "cell_type": "code",
   "execution_count": 178,
   "metadata": {
    "colab": {},
    "colab_type": "code",
    "id": "H74SJDIBVp_n"
   },
   "outputs": [
    {
     "name": "stdout",
     "output_type": "stream",
     "text": [
      " Nicolas Cage has been shoted mostly in films of the genre Action. There are 17 films in total.\n"
     ]
    }
   ],
   "source": [
    "data_exp17 = data[[\"genres\", \"cast\"]].explode(\"cast\")\n",
    "\n",
    "NC_ganres = data_exp17[data_exp17.cast ==\"Nicolas Cage\"][\"genres\"].explode().value_counts()\n",
    "\n",
    "\n",
    "Top_NCganres = NC_ganres.index[0]\n",
    "NCganres_count = NC_ganres[0]\n",
    "\n",
    "answers['17'] = f' Nicolas Cage has been shoted mostly in films of the genre {Top_NCganres}. There are {NCganres_count} films in total.'\n",
    "\n",
    "print(answers[\"17\"])"
   ]
  },
  {
   "cell_type": "markdown",
   "metadata": {
    "colab_type": "text",
    "id": "RqOmPRfWVp_q"
   },
   "source": [
    "# 18. Самый убыточный фильм от Paramount Pictures"
   ]
  },
  {
   "cell_type": "code",
   "execution_count": 207,
   "metadata": {},
   "outputs": [
    {
     "name": "stdout",
     "output_type": "stream",
     "text": [
      "The most unprofitable film from Paramount Pictures is K-19: The Widowmaker with total loss of -64831034 $ \n"
     ]
    }
   ],
   "source": [
    "ParmPict_loss = data[data.production_companies.str.contains('Paramount Pictures')].sort_values(['profit'], ascending=True)\n",
    "\n",
    "title = ParmPict_loss['original_title']\n",
    "imdb_id = \"(\" + ParmPict_loss['imdb_id'] + \")\"\n",
    "revenue = str(ParmPict_loss['profit'])\n",
    "\n",
    "\n",
    "answers['18'] =f'The most unprofitable film from Paramount Pictures is {ParmPict_name} with total loss of {ParmPict_TotalLoss} $ '\n",
    "print(answers['18'])"
   ]
  },
  {
   "cell_type": "markdown",
   "metadata": {
    "colab_type": "text",
    "id": "vS8Ur6ddVp_u"
   },
   "source": [
    "# 19. Какой год стал самым успешным по суммарным кассовым сборам?"
   ]
  },
  {
   "cell_type": "code",
   "execution_count": 199,
   "metadata": {
    "colab": {},
    "colab_type": "code",
    "id": "Dnbt4GdIVp_v"
   },
   "outputs": [
    {
     "name": "stdout",
     "output_type": "stream",
     "text": [
      "2015 is the most successful year. The amount of box office receipts is 25449202382. \n"
     ]
    }
   ],
   "source": [
    "Best_Year = data[[\"revenue\",\"release_year\"]].groupby(by = 'release_year').revenue.sum().sort_values(ascending = False)\n",
    "\n",
    "Best_Year_name = Best_Year.index[0]\n",
    "Best_total_revenue = Best_Year.iloc[0]\n",
    "\n",
    "answers['19'] = f'{Best_Year_name} is the most successful year. The amount of box office receipts is {Best_total_revenue}. '\n",
    "\n",
    "print(answers[\"19\"])"
   ]
  },
  {
   "cell_type": "markdown",
   "metadata": {
    "colab_type": "text",
    "id": "JAzJh4QAVp_z"
   },
   "source": [
    "# 20. Какой самый прибыльный год для студии Warner Bros?"
   ]
  },
  {
   "cell_type": "code",
   "execution_count": 209,
   "metadata": {
    "colab": {},
    "colab_type": "code",
    "id": "wgVu02DEVp_0"
   },
   "outputs": [
    {
     "name": "stdout",
     "output_type": "stream",
     "text": [
      " 2014 most Profitable Year for Warner Bros Studios\n"
     ]
    }
   ],
   "source": [
    "WarnerBros = data[data.production_companies.str.contains('Warner Bros')]\n",
    "\n",
    "WarnerBros_year = WarnerBros.groupby('release_year')['profit'].sum().sort_values(ascending=False).idxmax()\n",
    "\n",
    "\n",
    "answers['20'] = f' {WarnerBros_year} most Profitable Year for Warner Bros Studios'\n",
    "print(answers['20'])"
   ]
  },
  {
   "cell_type": "markdown",
   "metadata": {
    "colab_type": "text",
    "id": "8Im1S2HRVp_4"
   },
   "source": [
    "# 21. В каком месяце за все годы суммарно вышло больше всего фильмов?"
   ]
  },
  {
   "cell_type": "code",
   "execution_count": 218,
   "metadata": {
    "colab": {},
    "colab_type": "code",
    "id": "lev6TH7gVp_4"
   },
   "outputs": [
    {
     "name": "stdout",
     "output_type": "stream",
     "text": [
      " Most films released in month №9 \n"
     ]
    }
   ],
   "source": [
    "productive = data.release_date.dt.month.value_counts().idxmax()\n",
    "\n",
    "answers['21'] = f' Most films released in month №{productive} '\n",
    "print(answers['21'])"
   ]
  },
  {
   "cell_type": "markdown",
   "metadata": {
    "colab_type": "text",
    "id": "uAJsZ_NeVp_7"
   },
   "source": [
    "# 22. Сколько суммарно вышло фильмов летом? (за июнь, июль, август)"
   ]
  },
  {
   "cell_type": "code",
   "execution_count": 235,
   "metadata": {
    "colab": {},
    "colab_type": "code",
    "id": "Aa-hEREoVp_8"
   },
   "outputs": [
    {
     "name": "stdout",
     "output_type": "stream",
     "text": [
      "In total, 450 films were released in the summer. 147\n"
     ]
    }
   ],
   "source": [
    "month = data.release_date.dt.month.value_counts()\n",
    "summer_count = month.loc[6] + month.loc[7] + month.loc[8]\n",
    "\n",
    "answers['22'] = f'In total, {summer_count} films were released in the summer.'\n",
    "print(answers['22'],)"
   ]
  },
  {
   "cell_type": "markdown",
   "metadata": {
    "colab_type": "text",
    "id": "G94ppOY1VqAA"
   },
   "source": [
    "# 23. Для какого режиссера зима – самое продуктивное время года? "
   ]
  },
  {
   "cell_type": "code",
   "execution_count": 239,
   "metadata": {
    "colab": {},
    "colab_type": "code",
    "id": "RhNTsamuVqAB"
   },
   "outputs": [
    {
     "name": "stdout",
     "output_type": "stream",
     "text": [
      "Peter Jackson\n"
     ]
    }
   ],
   "source": [
    "\n",
    "winter_directors = data[(data.release_date.dt.month==12)|(data.release_date.dt.month==1)|(data.release_date.dt.month==2)]\\\n",
    "        [\"director\"].explode().value_counts()\n",
    "\n",
    "answers['23'] = winter_directors.index[0]\n",
    "\n",
    "print(answers['23'])"
   ]
  },
  {
   "cell_type": "markdown",
   "metadata": {
    "colab_type": "text",
    "id": "RBo0JVjVVqAF"
   },
   "source": [
    "# 24. Какая студия дает самые длинные названия своим фильмам по количеству символов?"
   ]
  },
  {
   "cell_type": "code",
   "execution_count": 241,
   "metadata": {
    "colab": {},
    "colab_type": "code",
    "id": "QRGS8L0iVqAG"
   },
   "outputs": [
    {
     "data": {
      "text/plain": [
       "'Four By Two Productions'"
      ]
     },
     "execution_count": 241,
     "metadata": {},
     "output_type": "execute_result"
    }
   ],
   "source": [
    "long_name = data.copy()\n",
    "long_name['original_title'] = long_name.original_title.apply(lambda x: len(x))\n",
    "long_name['production_companies'] = long_name.production_companies.str.split(\"|\")\n",
    "long_name = long_name.explode('production_companies')\n",
    "answers['24'] = long_name.groupby(['production_companies'])['original_title'].mean().idxmax()\n",
    "answers['24']"
   ]
  },
  {
   "cell_type": "markdown",
   "metadata": {
    "colab_type": "text",
    "id": "9G0hbvR7VqAK"
   },
   "source": [
    "# 25. Описание фильмов какой студии в среднем самые длинные по количеству слов?"
   ]
  },
  {
   "cell_type": "code",
   "execution_count": 253,
   "metadata": {
    "colab": {},
    "colab_type": "code",
    "id": "Ge2GsLNxVqAK"
   },
   "outputs": [
    {
     "data": {
      "text/html": [
       "<div>\n",
       "<style scoped>\n",
       "    .dataframe tbody tr th:only-of-type {\n",
       "        vertical-align: middle;\n",
       "    }\n",
       "\n",
       "    .dataframe tbody tr th {\n",
       "        vertical-align: top;\n",
       "    }\n",
       "\n",
       "    .dataframe thead th {\n",
       "        text-align: right;\n",
       "    }\n",
       "</style>\n",
       "<table border=\"1\" class=\"dataframe\">\n",
       "  <thead>\n",
       "    <tr style=\"text-align: right;\">\n",
       "      <th></th>\n",
       "      <th>overview</th>\n",
       "      <th>production_companies</th>\n",
       "      <th>overview_numwords</th>\n",
       "    </tr>\n",
       "  </thead>\n",
       "  <tbody>\n",
       "    <tr>\n",
       "      <th>711</th>\n",
       "      <td>[The, photographer, Leon, lives, with, his, gi...</td>\n",
       "      <td>Lions Gate Films|Lakeshore Entertainment|Green...</td>\n",
       "      <td>175</td>\n",
       "    </tr>\n",
       "    <tr>\n",
       "      <th>170</th>\n",
       "      <td>[Fourteen, hundred, years, ago,, a, tormented,...</td>\n",
       "      <td>Paramount Pictures|Metro-Goldwyn-Mayer (MGM)|R...</td>\n",
       "      <td>169</td>\n",
       "    </tr>\n",
       "    <tr>\n",
       "      <th>964</th>\n",
       "      <td>[Bucum, Jackson, (Cube), is, a, bounty, hunter...</td>\n",
       "      <td>New Line Cinema</td>\n",
       "      <td>166</td>\n",
       "    </tr>\n",
       "    <tr>\n",
       "      <th>1086</th>\n",
       "      <td>[Six, months, after, the, events, depicted, in...</td>\n",
       "      <td>Village Roadshow Pictures|NPV Entertainment|He...</td>\n",
       "      <td>161</td>\n",
       "    </tr>\n",
       "    <tr>\n",
       "      <th>1373</th>\n",
       "      <td>[The, chief, spokesperson, and, lobbyist, Nick...</td>\n",
       "      <td>Fox Searchlight Pictures|Room 9 Entertainment</td>\n",
       "      <td>161</td>\n",
       "    </tr>\n",
       "    <tr>\n",
       "      <th>...</th>\n",
       "      <td>...</td>\n",
       "      <td>...</td>\n",
       "      <td>...</td>\n",
       "    </tr>\n",
       "    <tr>\n",
       "      <th>1176</th>\n",
       "      <td>[Story, of, the, relationship, between, the, p...</td>\n",
       "      <td>Focus Films</td>\n",
       "      <td>12</td>\n",
       "    </tr>\n",
       "    <tr>\n",
       "      <th>579</th>\n",
       "      <td>[Two, bank, robbers, fall, in, love, with, the...</td>\n",
       "      <td>Cheyenne Enterprises|Epsilon Motion Pictures|E...</td>\n",
       "      <td>11</td>\n",
       "    </tr>\n",
       "    <tr>\n",
       "      <th>956</th>\n",
       "      <td>[Two, straight, men, mistakenly, end, up, on, ...</td>\n",
       "      <td>Motion Picture Corporation of America|Artisan ...</td>\n",
       "      <td>11</td>\n",
       "    </tr>\n",
       "    <tr>\n",
       "      <th>24</th>\n",
       "      <td>[The, men, who, made, millions, from, a, globa...</td>\n",
       "      <td>Paramount Pictures|Plan B Entertainment|Regenc...</td>\n",
       "      <td>10</td>\n",
       "    </tr>\n",
       "    <tr>\n",
       "      <th>1781</th>\n",
       "      <td>[Singer, Dewey, Cox, overcomes, adversity, to,...</td>\n",
       "      <td>Columbia Pictures Corporation|Apatow Productions</td>\n",
       "      <td>10</td>\n",
       "    </tr>\n",
       "  </tbody>\n",
       "</table>\n",
       "<p>1889 rows × 3 columns</p>\n",
       "</div>"
      ],
      "text/plain": [
       "                                               overview  \\\n",
       "711   [The, photographer, Leon, lives, with, his, gi...   \n",
       "170   [Fourteen, hundred, years, ago,, a, tormented,...   \n",
       "964   [Bucum, Jackson, (Cube), is, a, bounty, hunter...   \n",
       "1086  [Six, months, after, the, events, depicted, in...   \n",
       "1373  [The, chief, spokesperson, and, lobbyist, Nick...   \n",
       "...                                                 ...   \n",
       "1176  [Story, of, the, relationship, between, the, p...   \n",
       "579   [Two, bank, robbers, fall, in, love, with, the...   \n",
       "956   [Two, straight, men, mistakenly, end, up, on, ...   \n",
       "24    [The, men, who, made, millions, from, a, globa...   \n",
       "1781  [Singer, Dewey, Cox, overcomes, adversity, to,...   \n",
       "\n",
       "                                   production_companies  overview_numwords  \n",
       "711   Lions Gate Films|Lakeshore Entertainment|Green...                175  \n",
       "170   Paramount Pictures|Metro-Goldwyn-Mayer (MGM)|R...                169  \n",
       "964                                     New Line Cinema                166  \n",
       "1086  Village Roadshow Pictures|NPV Entertainment|He...                161  \n",
       "1373      Fox Searchlight Pictures|Room 9 Entertainment                161  \n",
       "...                                                 ...                ...  \n",
       "1176                                        Focus Films                 12  \n",
       "579   Cheyenne Enterprises|Epsilon Motion Pictures|E...                 11  \n",
       "956   Motion Picture Corporation of America|Artisan ...                 11  \n",
       "24    Paramount Pictures|Plan B Entertainment|Regenc...                 10  \n",
       "1781   Columbia Pictures Corporation|Apatow Productions                 10  \n",
       "\n",
       "[1889 rows x 3 columns]"
      ]
     },
     "metadata": {},
     "output_type": "display_data"
    }
   ],
   "source": [
    "data25 = data[[\"overview\",\"production_companies\"]]\\\n",
    "        .explode(\"production_companies\")\n",
    "\n",
    "data25[\"overview_numwords\"] = data25['overview'].map(\n",
    "    lambda x: len(str(x).split(\" \")))\n",
    "\n",
    "ans25 = data25\\\n",
    "        .groupby(by = 'production_companies')\\\n",
    "        .overview_numwords.mean()\\\n",
    "        .sort_values(ascending = False)\n",
    "\n",
    "answers['25'] = ans25.index[0]\n",
    "display (data25.sort_values(['overview_numwords'],ascending=False ))"
   ]
  },
  {
   "cell_type": "markdown",
   "metadata": {
    "colab_type": "text",
    "id": "FJ1AFt90VqAP"
   },
   "source": [
    "# 26. Какие фильмы входят в 1 процент лучших по рейтингу? \n",
    "по vote_average"
   ]
  },
  {
   "cell_type": "code",
   "execution_count": 261,
   "metadata": {
    "colab": {},
    "colab_type": "code",
    "id": "8qmJVq4CVqAQ"
   },
   "outputs": [
    {
     "data": {
      "text/plain": [
       "original_title\n",
       "The Dark Knight                                  8.1\n",
       "Inside Out                                       8.0\n",
       "Interstellar                                     8.0\n",
       "Room                                             8.0\n",
       "The Imitation Game                               8.0\n",
       "12 Years a Slave                                 7.9\n",
       "Gone Girl                                        7.9\n",
       "Guardians of the Galaxy                          7.9\n",
       "Inception                                        7.9\n",
       "Memento                                          7.9\n",
       "The Grand Budapest Hotel                         7.9\n",
       "The Lord of the Rings: The Return of the King    7.9\n",
       "The Pianist                                      7.9\n",
       "The Wolf of Wall Street                          7.9\n",
       "Name: vote_average, dtype: float64"
      ]
     },
     "execution_count": 261,
     "metadata": {},
     "output_type": "execute_result"
    }
   ],
   "source": [
    "persent = np.percentile(data['vote_average'], 99)\n",
    "best_movie = data[data.vote_average > persent]\n",
    "answers['26'] = best_movie.groupby(['original_title'])['vote_average'].max().sort_values(ascending=False)\n",
    "answers['26']"
   ]
  },
  {
   "cell_type": "markdown",
   "metadata": {
    "colab_type": "text",
    "id": "MdXsUXbCVqAV"
   },
   "source": [
    "# 27. Какие актеры чаще всего снимаются в одном фильме вместе?\n"
   ]
  },
  {
   "cell_type": "code",
   "execution_count": 281,
   "metadata": {},
   "outputs": [
    {
     "data": {
      "text/plain": [
       "'Daniel Radcliffe & Rupert Grint'"
      ]
     },
     "execution_count": 281,
     "metadata": {},
     "output_type": "execute_result"
    }
   ],
   "source": [
    "cast_counter = Counter()\n",
    "for casts in data.cast:\n",
    "    path = list(combinations(casts, 2))\n",
    "    cast_counter += Counter(path)\n",
    "answers['27'] = str(cast_counter.most_common(1))[4:20] + ' & ' + str(cast_counter.most_common(1))[24:36]\n",
    "answers['27']"
   ]
  },
  {
   "cell_type": "markdown",
   "metadata": {
    "colab_type": "text",
    "id": "U0nONFnGVqAX"
   },
   "source": [
    "# Submission"
   ]
  },
  {
   "cell_type": "code",
   "execution_count": 290,
   "metadata": {
    "colab": {},
    "colab_type": "code",
    "id": "IfcaRO9-VqAX",
    "outputId": "0f132912-32bb-4196-c98c-abfbc4ad5a5f"
   },
   "outputs": [
    {
     "data": {
      "text/plain": [
       "{'1': ' (tt1298650) Pirates of the Caribbean: On Stranger Tides with a budget of 380000000$',\n",
       " '2': '(tt0279111) \"Gods and Generals\"  with duration of 214 min'}"
      ]
     },
     "execution_count": 290,
     "metadata": {},
     "output_type": "execute_result"
    }
   ],
   "source": [
    "# в конце можно посмотреть свои ответы к каждому вопросу\n",
    "answers"
   ]
  },
  {
   "cell_type": "code",
   "execution_count": 283,
   "metadata": {
    "colab": {},
    "colab_type": "code",
    "id": "SiRmHPl8VqAd"
   },
   "outputs": [
    {
     "data": {
      "text/plain": [
       "1"
      ]
     },
     "execution_count": 283,
     "metadata": {},
     "output_type": "execute_result"
    }
   ],
   "source": [
    "# и убедиться что ни чего не пропустил)\n",
    "len(answers)"
   ]
  },
  {
   "cell_type": "code",
   "execution_count": 0,
   "metadata": {
    "colab": {},
    "colab_type": "code",
    "id": "uCfuTkRbVqAg"
   },
   "outputs": [],
   "source": []
  },
  {
   "cell_type": "code",
   "execution_count": 0,
   "metadata": {
    "colab": {},
    "colab_type": "code",
    "id": "Vwx3NrkSVqAl"
   },
   "outputs": [],
   "source": []
  }
 ],
 "metadata": {
  "colab": {
   "name": "Copy of [SF-DST] Movies IMBD v4.1 TEMPLATE.ipynb",
   "provenance": []
  },
  "kernelspec": {
   "display_name": "Python 3",
   "language": "python",
   "name": "python3"
  },
  "language_info": {
   "codemirror_mode": {
    "name": "ipython",
    "version": 3
   },
   "file_extension": ".py",
   "mimetype": "text/x-python",
   "name": "python",
   "nbconvert_exporter": "python",
   "pygments_lexer": "ipython3",
   "version": "3.8.8"
  }
 },
 "nbformat": 4,
 "nbformat_minor": 1
}
